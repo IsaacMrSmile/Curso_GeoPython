{
  "nbformat": 4,
  "nbformat_minor": 0,
  "metadata": {
    "colab": {
      "name": "Clase_2_geopython_isaac.ipynb",
      "private_outputs": true,
      "provenance": [],
      "authorship_tag": "ABX9TyO4SXduHO78DIOxj9CO+koS",
      "include_colab_link": true
    },
    "kernelspec": {
      "name": "python3",
      "display_name": "Python 3"
    },
    "language_info": {
      "name": "python"
    }
  },
  "cells": [
    {
      "cell_type": "markdown",
      "metadata": {
        "id": "view-in-github",
        "colab_type": "text"
      },
      "source": [
        "<a href=\"https://colab.research.google.com/github/IsaacMrSmile/Curso_GeoPython/blob/main/Clase_2_geopython_isaac.ipynb\" target=\"_parent\"><img src=\"https://colab.research.google.com/assets/colab-badge.svg\" alt=\"Open In Colab\"/></a>"
      ]
    },
    {
      "cell_type": "markdown",
      "source": [
        "<center>\n",
        "<h1>Introduccion a la Pogramacion Geologica\n",
        "\n",
        "<h2>Clase 2: Condicionales e Introduccion a la Graficacion\n",
        "---\n",
        "\n",
        "\n"
      ],
      "metadata": {
        "id": "l8VkneTYoxd3"
      }
    },
    {
      "cell_type": "code",
      "execution_count": null,
      "metadata": {
        "id": "LJvlLXBFoGH6"
      },
      "outputs": [],
      "source": [
        "nombre_mineral = input(\"ingrese el nombre del mineral\")\n",
        "print(\"mineral es :\", nombre_mineral)"
      ]
    },
    {
      "cell_type": "markdown",
      "source": [
        "<center>\n",
        "$ y1= pendiente * X + b$"
      ],
      "metadata": {
        "id": "CNu2Ib1aygUA"
      }
    },
    {
      "cell_type": "code",
      "source": [
        "x = int(input(\"por favor ingrese el valor x\"))\n",
        "y = x * 4+8\n",
        "print(\"el valor calculado de y es:\", y)"
      ],
      "metadata": {
        "id": "idhhoud5x-QE"
      },
      "execution_count": null,
      "outputs": []
    },
    {
      "cell_type": "code",
      "source": [
        "x = float(input(\"por favor ingrese el valor x\")) # valores flotantes o decimales\n",
        "y = x * 4+8\n",
        "print(\"el valor calculado de y es:\", y)"
      ],
      "metadata": {
        "id": "WatF61jsy6bi"
      },
      "execution_count": null,
      "outputs": []
    },
    {
      "cell_type": "code",
      "source": [
        "x = float(input(\"por favor ingrese el valor x\")) # valores flotantes o decimales\n",
        "y = x * 4+8\n",
        "print(\"el valor calculado de y es:\", y)\n",
        "# print('{y:-2f}'.format(float))"
      ],
      "metadata": {
        "id": "FuBnhP_Qz6UR"
      },
      "execution_count": null,
      "outputs": []
    },
    {
      "cell_type": "code",
      "source": [
        "from matplotlib import pyplot as plt\n",
        "\n",
        "plt.figure(figsize = (5,5))\n",
        "plt.plot()\n",
        "plt.show()"
      ],
      "metadata": {
        "id": "jQJtEnm00Cpi"
      },
      "execution_count": null,
      "outputs": []
    },
    {
      "cell_type": "code",
      "source": [
        "from matplotlib import pyplot as plt\n",
        "\n",
        "plt.figure(figsize = (7,3))\n",
        "plt.plot(1,1, color = 'blue', marker='*')\n",
        "plt.title('Grafico')\n",
        "plt.grid(True)\n",
        "plt.yticks()\n",
        "plt.xlabel('presion [psi]')\n",
        "plt.show()"
      ],
      "metadata": {
        "id": "SY1JVtNb0jWS"
      },
      "execution_count": null,
      "outputs": []
    }
  ]
}
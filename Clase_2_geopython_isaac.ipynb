{
  "nbformat": 4,
  "nbformat_minor": 0,
  "metadata": {
    "colab": {
      "name": "Clase_2_geopython_isaac.ipynb",
      "private_outputs": true,
      "provenance": [],
      "authorship_tag": "ABX9TyMsqLUYvrSvl5q1a5t2inyG",
      "include_colab_link": true
    },
    "kernelspec": {
      "name": "python3",
      "display_name": "Python 3"
    },
    "language_info": {
      "name": "python"
    }
  },
  "cells": [
    {
      "cell_type": "markdown",
      "metadata": {
        "id": "view-in-github",
        "colab_type": "text"
      },
      "source": [
        "<a href=\"https://colab.research.google.com/github/IsaacMrSmile/Curso_GeoPython/blob/main/Clase_2_geopython_isaac.ipynb\" target=\"_parent\"><img src=\"https://colab.research.google.com/assets/colab-badge.svg\" alt=\"Open In Colab\"/></a>"
      ]
    },
    {
      "cell_type": "markdown",
      "source": [
        "#**Introduccion a la Pogramacion Geologica**\n",
        "\n",
        "##**Clase 2: Condicionales e Introduccion a la Graficacion**\n",
        "---\n",
        "##Temas:\n",
        "\n",
        "1.   Introduccion a la programacion, ¿ \n",
        "2.   Elemento de lista\n",
        "\n"
      ],
      "metadata": {
        "id": "l8VkneTYoxd3"
      }
    },
    {
      "cell_type": "code",
      "execution_count": null,
      "metadata": {
        "id": "LJvlLXBFoGH6"
      },
      "outputs": [],
      "source": [
        ""
      ]
    }
  ]
}